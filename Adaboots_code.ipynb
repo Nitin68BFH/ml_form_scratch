{
  "nbformat": 4,
  "nbformat_minor": 0,
  "metadata": {
    "colab": {
      "private_outputs": true,
      "provenance": [],
      "authorship_tag": "ABX9TyPnV2E0nnpaS/8z93H5m3Jg",
      "include_colab_link": true
    },
    "kernelspec": {
      "name": "python3",
      "display_name": "Python 3"
    },
    "language_info": {
      "name": "python"
    }
  },
  "cells": [
    {
      "cell_type": "markdown",
      "metadata": {
        "id": "view-in-github",
        "colab_type": "text"
      },
      "source": [
        "<a href=\"https://colab.research.google.com/github/Nitin68BFH/ml_form_scratch/blob/main/Adaboots_code.ipynb\" target=\"_parent\"><img src=\"https://colab.research.google.com/assets/colab-badge.svg\" alt=\"Open In Colab\"/></a>"
      ]
    },
    {
      "cell_type": "code",
      "execution_count": null,
      "metadata": {
        "id": "kQcahOxECrg1"
      },
      "outputs": [],
      "source": [
        "import numpy as np\n",
        "import pandas as pd\n",
        "from  mlxtend.plotting import plot_decision_regions as pdr\n",
        "import matplotlib.pyplot as plt\n",
        "from sklearn.tree import DecisionTreeClassifier\n"
      ]
    },
    {
      "cell_type": "code",
      "source": [
        "data = {\n",
        "    \"feature1\": [2, 3, 1, 4, 5, 6, 1.5, 3.5, 5.5, 2.5],\n",
        "    \"feature2\": [8, 6, 9, 5, 3, 4, 7, 2, 1, 6.5],\n",
        "    \"label\":    [1, 0, 1, 0, 0, 1, 1, 0, 1, 0]  # deliberately not easy pattern\n",
        "}\n"
      ],
      "metadata": {
        "id": "cPBNstbtE-0G"
      },
      "execution_count": null,
      "outputs": []
    },
    {
      "cell_type": "code",
      "source": [
        "df = pd.DataFrame(data)"
      ],
      "metadata": {
        "id": "Yct0Y7-kFDkY"
      },
      "execution_count": null,
      "outputs": []
    },
    {
      "cell_type": "code",
      "source": [
        "df"
      ],
      "metadata": {
        "id": "GnZdiF1kFeCt"
      },
      "execution_count": null,
      "outputs": []
    },
    {
      "cell_type": "code",
      "source": [
        "df['weights'] = 1/df.shape[0]"
      ],
      "metadata": {
        "id": "2N7fslITFf_R"
      },
      "execution_count": null,
      "outputs": []
    },
    {
      "cell_type": "code",
      "source": [
        "df"
      ],
      "metadata": {
        "id": "LzBGrU9JGXpk"
      },
      "execution_count": null,
      "outputs": []
    },
    {
      "cell_type": "code",
      "source": [
        "X = df.iloc[:,0:2].values\n",
        "y = df.iloc[:,2].values"
      ],
      "metadata": {
        "id": "6XcL9vxOGYAH"
      },
      "execution_count": null,
      "outputs": []
    },
    {
      "cell_type": "code",
      "source": [
        "dt1 = DecisionTreeClassifier(max_depth = 1)\n"
      ],
      "metadata": {
        "id": "eR3E9xZYG5Nv"
      },
      "execution_count": null,
      "outputs": []
    },
    {
      "cell_type": "code",
      "source": [
        "dt1.fit(X,y)"
      ],
      "metadata": {
        "id": "017ACiA4G_4x"
      },
      "execution_count": null,
      "outputs": []
    },
    {
      "cell_type": "code",
      "source": [
        "pdr(X, y, clf = dt1 , legend = 2)"
      ],
      "metadata": {
        "id": "MLtqaDKhHBiO"
      },
      "execution_count": null,
      "outputs": []
    },
    {
      "cell_type": "code",
      "source": [
        "df['y_pred'] = dt1.predict(X)"
      ],
      "metadata": {
        "id": "Xhe9nCUbHM2T"
      },
      "execution_count": null,
      "outputs": []
    },
    {
      "cell_type": "code",
      "source": [
        "df"
      ],
      "metadata": {
        "id": "ZS3WuRRRJDDk"
      },
      "execution_count": null,
      "outputs": []
    },
    {
      "cell_type": "code",
      "source": [
        "mismatched_df = df[df['label'] != df['y_pred']]\n",
        "error = mismatched_df['weights'].sum()"
      ],
      "metadata": {
        "id": "Hup89xYsKdVx"
      },
      "execution_count": null,
      "outputs": []
    },
    {
      "cell_type": "code",
      "source": [
        "error"
      ],
      "metadata": {
        "id": "YBqJVkzQOcsX"
      },
      "execution_count": null,
      "outputs": []
    },
    {
      "cell_type": "code",
      "source": [
        "def calculated_model_weight(error):\n",
        "    return 0.5*np.log((1-error)/error)"
      ],
      "metadata": {
        "id": "ey9GBnKiOfyH"
      },
      "execution_count": null,
      "outputs": []
    },
    {
      "cell_type": "code",
      "source": [
        "alpha1 = calculated_model_weight(error)"
      ],
      "metadata": {
        "id": "ujUfUyAyO7so"
      },
      "execution_count": null,
      "outputs": []
    },
    {
      "cell_type": "code",
      "source": [
        "alpha1"
      ],
      "metadata": {
        "id": "3p7jfmGRO_m2"
      },
      "execution_count": null,
      "outputs": []
    },
    {
      "cell_type": "code",
      "source": [
        "def updated_model_weights(row , alpha):\n",
        "    if row['label']!= row['y_pred']:\n",
        "        return row['weights']*np.exp(alpha)\n",
        "    else:\n",
        "        return row['weights']* np.exp(-alpha)"
      ],
      "metadata": {
        "id": "_be6ZvJSPA_4"
      },
      "execution_count": null,
      "outputs": []
    },
    {
      "cell_type": "code",
      "source": [
        "df['updated_weight'] = df.apply(updated_model_weights, axis=1, args=(alpha1,))"
      ],
      "metadata": {
        "id": "dMYyHQALPpD2"
      },
      "execution_count": null,
      "outputs": []
    },
    {
      "cell_type": "code",
      "source": [
        "df"
      ],
      "metadata": {
        "id": "-GNlRQ05QMgb"
      },
      "execution_count": null,
      "outputs": []
    },
    {
      "cell_type": "code",
      "source": [
        "df['updated_weight'].sum()"
      ],
      "metadata": {
        "id": "2E-jiObqQMyq"
      },
      "execution_count": null,
      "outputs": []
    },
    {
      "cell_type": "code",
      "source": [
        "df['normalized_weight'] = df['updated_weight']/df['updated_weight'].sum()"
      ],
      "metadata": {
        "id": "W44okJ562COK"
      },
      "execution_count": null,
      "outputs": []
    },
    {
      "cell_type": "code",
      "source": [
        "df['normalized_weight'].sum()"
      ],
      "metadata": {
        "id": "Ivn24eIi2M-I"
      },
      "execution_count": null,
      "outputs": []
    },
    {
      "cell_type": "code",
      "source": [
        "df['upper_range'] = np.cumsum(df['normalized_weight'])"
      ],
      "metadata": {
        "id": "ZalRlB5M2QlW"
      },
      "execution_count": null,
      "outputs": []
    },
    {
      "cell_type": "code",
      "source": [
        "df['lower_range'] = df['upper_range']-df['normalized_weight']"
      ],
      "metadata": {
        "id": "X-XbE9hO2iCV"
      },
      "execution_count": null,
      "outputs": []
    },
    {
      "cell_type": "code",
      "source": [
        "df"
      ],
      "metadata": {
        "id": "akrkBbR32uLk"
      },
      "execution_count": null,
      "outputs": []
    },
    {
      "cell_type": "code",
      "source": [],
      "metadata": {
        "id": "JP_t5VEF5L9Y"
      },
      "execution_count": null,
      "outputs": []
    },
    {
      "cell_type": "code",
      "source": [
        "\n",
        "def create_new_dataset(df):\n",
        "\n",
        "  indices = []\n",
        "\n",
        "  for i in range(df.shape[0]):\n",
        "    a = np.random.random()\n",
        "    for index,row in df.iterrows():\n",
        "      if row['upper_range'] > a and a > row['lower_range']:\n",
        "        indices.append(index)\n",
        "  return indices"
      ],
      "metadata": {
        "id": "Ke-I2JwX6Yal"
      },
      "execution_count": null,
      "outputs": []
    },
    {
      "cell_type": "code",
      "source": [
        "index_values = create_new_dataset(df)\n",
        "index_values"
      ],
      "metadata": {
        "id": "ooVkQKCY5Ldd"
      },
      "execution_count": null,
      "outputs": []
    },
    {
      "cell_type": "code",
      "source": [
        "second_df = df.iloc[index_values]"
      ],
      "metadata": {
        "id": "PxPSnT2K6H_S"
      },
      "execution_count": null,
      "outputs": []
    },
    {
      "cell_type": "code",
      "source": [
        "second_df.columns"
      ],
      "metadata": {
        "id": "KnSTvMeB7tpx"
      },
      "execution_count": null,
      "outputs": []
    },
    {
      "cell_type": "code",
      "source": [
        "second_df = second_df.drop(columns = ['y_pred','updated_weight',\n",
        "       'normalized_weight', 'upper_range', 'lower_range'])"
      ],
      "metadata": {
        "id": "-3c_RxJw6r7p"
      },
      "execution_count": null,
      "outputs": []
    },
    {
      "cell_type": "code",
      "source": [
        "x = second_df.iloc[:,0:2]\n",
        "y = second_df.iloc[:,2]"
      ],
      "metadata": {
        "id": "gBHkrDkp6th4"
      },
      "execution_count": null,
      "outputs": []
    },
    {
      "cell_type": "code",
      "source": [
        "dt2 = DecisionTreeClassifier(max_depth = 1)"
      ],
      "metadata": {
        "id": "oeZ7OaJv79fR"
      },
      "execution_count": null,
      "outputs": []
    },
    {
      "cell_type": "code",
      "source": [
        "dt2.fit(x,y)"
      ],
      "metadata": {
        "id": "jSi6Kzcr8Bkb"
      },
      "execution_count": null,
      "outputs": []
    },
    {
      "cell_type": "code",
      "source": [
        "dt2.predict(x)"
      ],
      "metadata": {
        "id": "CqN1FkNQ8bVO"
      },
      "execution_count": null,
      "outputs": []
    },
    {
      "cell_type": "code",
      "source": [
        "second_df['y_pred'] = dt2.predict(x)"
      ],
      "metadata": {
        "id": "LQrCQiYE8Fbp"
      },
      "execution_count": null,
      "outputs": []
    },
    {
      "cell_type": "code",
      "source": [
        "second_df"
      ],
      "metadata": {
        "id": "ESuwMOXL8IKp"
      },
      "execution_count": null,
      "outputs": []
    },
    {
      "cell_type": "code",
      "source": [
        "error = 0.1 #only one misclassified"
      ],
      "metadata": {
        "id": "SE9Pdkzw8Qjm"
      },
      "execution_count": null,
      "outputs": []
    },
    {
      "cell_type": "code",
      "source": [
        "alpha2 = calculated_model_weight(error)"
      ],
      "metadata": {
        "id": "IwrXMhvL9VRc"
      },
      "execution_count": null,
      "outputs": []
    },
    {
      "cell_type": "code",
      "source": [
        "alpha2"
      ],
      "metadata": {
        "id": "5rrBu_kY9bL-"
      },
      "execution_count": null,
      "outputs": []
    },
    {
      "cell_type": "code",
      "source": [
        "second_df['updated_weight'] = second_df.apply(updated_model_weights , axis = 1 , args = (alpha2 ,))"
      ],
      "metadata": {
        "id": "uvcGLzcT9nPX"
      },
      "execution_count": null,
      "outputs": []
    },
    {
      "cell_type": "code",
      "source": [
        "second_df"
      ],
      "metadata": {
        "id": "FN7cMDIv-AWE"
      },
      "execution_count": null,
      "outputs": []
    },
    {
      "cell_type": "code",
      "source": [
        "second_df['updated_weight'].sum()"
      ],
      "metadata": {
        "id": "xyHOjAu1-BP1"
      },
      "execution_count": null,
      "outputs": []
    },
    {
      "cell_type": "code",
      "source": [
        "second_df['normalized_weight'] = second_df['updated_weight']/second_df['updated_weight'].sum()"
      ],
      "metadata": {
        "id": "8mHa68yQ-OpY"
      },
      "execution_count": null,
      "outputs": []
    },
    {
      "cell_type": "code",
      "source": [
        "second_df['uppder_range'] = np.cumsum(df['normalized_weight'])\n",
        "second_df['lower_range'] = second_df['uppder_range'] - second_df['normalized_weight']"
      ],
      "metadata": {
        "id": "r22HCeZ3-xSq"
      },
      "execution_count": null,
      "outputs": []
    },
    {
      "cell_type": "code",
      "source": [
        "second_df"
      ],
      "metadata": {
        "id": "qe5GopxR_Gze"
      },
      "execution_count": null,
      "outputs": []
    },
    {
      "cell_type": "code",
      "source": [
        "#similarly for the nth - dataset"
      ],
      "metadata": {
        "id": "7EjeW4Dh_WQy"
      },
      "execution_count": null,
      "outputs": []
    },
    {
      "cell_type": "markdown",
      "source": [
        "---"
      ],
      "metadata": {
        "id": "Cte_Ip0R_bPB"
      }
    },
    {
      "cell_type": "markdown",
      "source": [
        "## Prediction"
      ],
      "metadata": {
        "id": "jKUo5v0H_c3J"
      }
    },
    {
      "cell_type": "code",
      "source": [
        "df"
      ],
      "metadata": {
        "id": "pedqy0y7_mwu"
      },
      "execution_count": null,
      "outputs": []
    },
    {
      "cell_type": "code",
      "source": [
        "# so lets take row 3 for prediction test\n",
        "df.iloc[3,:5]\n",
        "\n",
        "# In this example label is 0 and y_pred also 0"
      ],
      "metadata": {
        "id": "oJNe4C5L_aEZ"
      },
      "execution_count": null,
      "outputs": []
    },
    {
      "cell_type": "code",
      "source": [
        "query = np.array([4.0,5.0]).reshape(1,2)"
      ],
      "metadata": {
        "id": "YaXHkg4z_zQu"
      },
      "execution_count": null,
      "outputs": []
    },
    {
      "cell_type": "code",
      "source": [
        "dt1.predict(query)"
      ],
      "metadata": {
        "id": "uFRG7HwFAIkR"
      },
      "execution_count": null,
      "outputs": []
    },
    {
      "cell_type": "code",
      "source": [
        "dt2.predict(query)"
      ],
      "metadata": {
        "id": "nZUYBd5PAm7k"
      },
      "execution_count": null,
      "outputs": []
    },
    {
      "cell_type": "code",
      "source": [
        "res = np.sign(alpha1 * (-1) + alpha2 * (-1)) # 0 means -1 and 1 means 1"
      ],
      "metadata": {
        "id": "OZEMGQ9uApsW"
      },
      "execution_count": null,
      "outputs": []
    },
    {
      "cell_type": "code",
      "source": [
        "res"
      ],
      "metadata": {
        "id": "4fjdXyZVBAs9"
      },
      "execution_count": null,
      "outputs": []
    },
    {
      "cell_type": "code",
      "source": [
        "# result is -1 means 0 and label is also 0  means we make the correct adaboost model from scratch"
      ],
      "metadata": {
        "id": "xwPYyvsIBCn0"
      },
      "execution_count": null,
      "outputs": []
    },
    {
      "cell_type": "code",
      "source": [],
      "metadata": {
        "id": "iYEXb-W3BbPf"
      },
      "execution_count": null,
      "outputs": []
    }
  ]
}