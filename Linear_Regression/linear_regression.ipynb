{
 "cells": [
  {
   "cell_type": "markdown",
   "id": "a8f61d3c",
   "metadata": {},
   "source": [
    "### synthetic-dataset\n",
    "---"
   ]
  },
  {
   "cell_type": "code",
   "execution_count": 1,
   "id": "24777385",
   "metadata": {},
   "outputs": [
    {
     "data": {
      "text/html": [
       "<div>\n",
       "<style scoped>\n",
       "    .dataframe tbody tr th:only-of-type {\n",
       "        vertical-align: middle;\n",
       "    }\n",
       "\n",
       "    .dataframe tbody tr th {\n",
       "        vertical-align: top;\n",
       "    }\n",
       "\n",
       "    .dataframe thead th {\n",
       "        text-align: right;\n",
       "    }\n",
       "</style>\n",
       "<table border=\"1\" class=\"dataframe\">\n",
       "  <thead>\n",
       "    <tr style=\"text-align: right;\">\n",
       "      <th></th>\n",
       "      <th>X</th>\n",
       "      <th>y</th>\n",
       "    </tr>\n",
       "  </thead>\n",
       "  <tbody>\n",
       "    <tr>\n",
       "      <th>0</th>\n",
       "      <td>0.00000</td>\n",
       "      <td>7.993428</td>\n",
       "    </tr>\n",
       "    <tr>\n",
       "      <th>1</th>\n",
       "      <td>0.10101</td>\n",
       "      <td>7.026502</td>\n",
       "    </tr>\n",
       "    <tr>\n",
       "      <th>2</th>\n",
       "      <td>0.20202</td>\n",
       "      <td>8.901438</td>\n",
       "    </tr>\n",
       "    <tr>\n",
       "      <th>3</th>\n",
       "      <td>0.30303</td>\n",
       "      <td>10.955151</td>\n",
       "    </tr>\n",
       "    <tr>\n",
       "      <th>4</th>\n",
       "      <td>0.40404</td>\n",
       "      <td>7.743814</td>\n",
       "    </tr>\n",
       "  </tbody>\n",
       "</table>\n",
       "</div>"
      ],
      "text/plain": [
       "         X          y\n",
       "0  0.00000   7.993428\n",
       "1  0.10101   7.026502\n",
       "2  0.20202   8.901438\n",
       "3  0.30303  10.955151\n",
       "4  0.40404   7.743814"
      ]
     },
     "execution_count": 1,
     "metadata": {},
     "output_type": "execute_result"
    }
   ],
   "source": [
    "import numpy as np\n",
    "import pandas as pd\n",
    "\n",
    "# Set random seed for reproducibility\n",
    "np.random.seed(42)\n",
    "\n",
    "# Number of samples\n",
    "n_samples = 100\n",
    "\n",
    "# Feature (X)\n",
    "X = np.linspace(0, 10, n_samples)\n",
    "\n",
    "# Target (y) with linear relation + noise\n",
    "y = 3 * X + 7 + np.random.normal(0, 2, n_samples)\n",
    "\n",
    "# Create DataFrame\n",
    "df = pd.DataFrame({\"X\": X, \"y\": y})\n",
    "\n",
    "df.head()  # Show first 5 rows\n"
   ]
  },
  {
   "cell_type": "code",
   "execution_count": 2,
   "id": "962cc7ec",
   "metadata": {},
   "outputs": [
    {
     "data": {
      "text/plain": [
       "(100, 2)"
      ]
     },
     "execution_count": 2,
     "metadata": {},
     "output_type": "execute_result"
    }
   ],
   "source": [
    "df.shape"
   ]
  },
  {
   "cell_type": "markdown",
   "id": "f8246eac",
   "metadata": {},
   "source": [
    "---"
   ]
  },
  {
   "cell_type": "markdown",
   "id": "487f50ef",
   "metadata": {},
   "source": [
    "### Code of linear regression from scratch"
   ]
  },
  {
   "cell_type": "code",
   "execution_count": 16,
   "id": "68914b60",
   "metadata": {},
   "outputs": [],
   "source": [
    "class lr():\n",
    "    def __init__(self):\n",
    "        self.slope = None\n",
    "        self.intercept = None\n",
    "    \n",
    "    def fit(self,x_train,y_train):\n",
    "        x_train = np.array(x_train)\n",
    "        y_train = np.array(y_train)\n",
    "        num = 0\n",
    "        den = 0 \n",
    "        for i in range(x_train.shape[0]):\n",
    "            num += ((x_train[i] - x_train.mean())*(y_train[i] - y_train.mean()))\n",
    "            den += (x_train[i]-x_train.mean())**2\n",
    "        \n",
    "        self.slope = num/den\n",
    "        self.intercept = y_train.mean() - self.slope*x_train.mean()\n",
    "\n",
    "    def predict(self , x_test):\n",
    "        return self.slope*x_test + self.intercept"
   ]
  },
  {
   "cell_type": "markdown",
   "id": "a5f27d23",
   "metadata": {},
   "source": [
    "---"
   ]
  },
  {
   "cell_type": "markdown",
   "id": "1b0610b4",
   "metadata": {},
   "source": [
    "### Prediction of My Linear Regression Model"
   ]
  },
  {
   "cell_type": "code",
   "execution_count": null,
   "id": "2b009a9b",
   "metadata": {},
   "outputs": [],
   "source": [
    "from sklearn.model_selection import train_test_split\n",
    "\n",
    "lr_x = df['X']\n",
    "lr_y = df['y']\n",
    "\n",
    "x_train ,x_test ,y_train , y_test = train_test_split(lr_x,lr_y,test_size = 0.2,random_state = 42)\n",
    "\n",
    "my_model = lr()\n",
    "\n",
    "my_model.fit(x_train , y_train)\n",
    "\n",
    "y_pred = my_model.predict(x_test)\n",
    "\n"
   ]
  },
  {
   "cell_type": "code",
   "execution_count": 33,
   "id": "7112ae67",
   "metadata": {},
   "outputs": [
    {
     "data": {
      "text/plain": [
       "(80,)"
      ]
     },
     "execution_count": 33,
     "metadata": {},
     "output_type": "execute_result"
    }
   ],
   "source": [
    "x_train.shape"
   ]
  },
  {
   "cell_type": "code",
   "execution_count": 25,
   "id": "5694fd1c",
   "metadata": {},
   "outputs": [
    {
     "name": "stdout",
     "output_type": "stream",
     "text": [
      "R2 score of mylr :0.968345944528421\n"
     ]
    }
   ],
   "source": [
    "from sklearn.metrics import r2_score\n",
    "\n",
    "mylr_r2_score = r2_score(y_test , y_pred )\n",
    "print(f'R2 score of mylr :{mylr_r2_score}')"
   ]
  },
  {
   "cell_type": "markdown",
   "id": "8f702744",
   "metadata": {},
   "source": [
    "---\n",
    "### Scikit_learn Model\n"
   ]
  },
  {
   "cell_type": "code",
   "execution_count": 24,
   "id": "52359b60",
   "metadata": {},
   "outputs": [],
   "source": [
    "from sklearn.linear_model import LinearRegression\n",
    "from sklearn.model_selection import train_test_split \n",
    "\n",
    "sk_x = df[['X']]\n",
    "sk_y = df['y']\n",
    "\n",
    "sk_x_train , sk_x_test , sk_y_train , sk_y_test = train_test_split(sk_x , sk_y , test_size = 0.2 , random_state = 42)\n",
    "\n",
    "sk_model = LinearRegression()\n",
    "\n",
    "sk_model.fit(sk_x_train , sk_y_train)\n",
    "sk_y_pred = sk_model.predict(sk_x_test)\n",
    "\n"
   ]
  },
  {
   "cell_type": "code",
   "execution_count": 26,
   "id": "4c7fa468",
   "metadata": {},
   "outputs": [
    {
     "name": "stdout",
     "output_type": "stream",
     "text": [
      "R2 score of msk_lr :0.968345944528421\n"
     ]
    }
   ],
   "source": [
    "from sklearn.metrics import r2_score\n",
    "\n",
    "sk_r2_score = r2_score(sk_y_test , sk_y_pred)\n",
    "print(f'R2 score of msk_lr :{sk_r2_score}')"
   ]
  },
  {
   "cell_type": "markdown",
   "id": "e82a5480",
   "metadata": {},
   "source": [
    "---\n",
    "### Side by side comparsion of both model"
   ]
  },
  {
   "cell_type": "code",
   "execution_count": 34,
   "id": "33d91b4f",
   "metadata": {},
   "outputs": [
    {
     "data": {
      "image/png": "[encoded data removed]",
      "text/plain": [
       "<Figure size 1000x600 with 2 Axes>"
      ]
     },
     "metadata": {},
     "output_type": "display_data"
    }
   ],
   "source": [
    "import matplotlib.pyplot as plt\n",
    "\n",
    "plt.figure(figsize=(10,6))\n",
    "\n",
    "# --- Left subplot: Your custom LR ---\n",
    "plt.subplot(1,2,1)\n",
    "plt.scatter(X, y, color='y', label='Data points')\n",
    "plt.plot(x_test, y_pred, label='Fit line')\n",
    "plt.xlabel('x')\n",
    "plt.ylabel('y')\n",
    "plt.title(\"My LR Model\")\n",
    "plt.legend()\n",
    "\n",
    "# --- Right subplot: Sklearn LR ---\n",
    "plt.subplot(1,2,2)\n",
    "plt.scatter(X, y, color='y', label='Data points')\n",
    "plt.plot(x_test, sk_y_pred, label='Fit line')\n",
    "plt.xlabel('x')\n",
    "plt.ylabel('y')\n",
    "plt.title(\"Sklearn Model\")\n",
    "plt.legend()\n",
    "\n",
    "plt.tight_layout()  # adjusts spacing\n",
    "plt.show()\n"
   ]
  },
  {
   "cell_type": "code",
   "execution_count": null,
   "id": "d4ddc853",
   "metadata": {},
   "outputs": [],
   "source": []
  }
 ],
 "metadata": {
  "kernelspec": {
   "display_name": "myenv",
   "language": "python",
   "name": "python3"
  },
  "language_info": {
   "codemirror_mode": {
    "name": "ipython",
    "version": 3
   },
   "file_extension": ".py",
   "mimetype": "text/x-python",
   "name": "python",
   "nbconvert_exporter": "python",
   "pygments_lexer": "ipython3",
   "version": "3.12.3"
  }
 },
 "nbformat": 4,
 "nbformat_minor": 5
}
